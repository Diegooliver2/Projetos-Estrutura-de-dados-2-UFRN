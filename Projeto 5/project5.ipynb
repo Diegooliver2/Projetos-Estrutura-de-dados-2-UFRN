{
 "cells": [
  {
   "cell_type": "markdown",
   "metadata": {},
   "source": [
    "## **Definição da classe**"
   ]
  },
  {
   "cell_type": "code",
   "execution_count": 1,
   "metadata": {},
   "outputs": [],
   "source": [
    "import csv\n",
    "\n",
    "class Inventory():                    \n",
    "    \n",
    "    def __init__(self, csv_filename):\n",
    "        with open(csv_filename, encoding=\"utf8\") as f: \n",
    "            reader = csv.reader(f)\n",
    "            rows = list(reader)\n",
    "        self.header = rows[0]        \n",
    "        self.rows = rows[1:]\n",
    "        for row in self.rows:              \n",
    "            row[-1] = int(row[-1])\n",
    "        self.id_to_row = {}                        \n",
    "        for row in self.rows:                       \n",
    "            self.id_to_row[row[1]] = row\n",
    "    \n",
    "    def get_message_from_id(self, message_id):\n",
    "        for row in self.rows:                 \n",
    "            if row[1] == message_id:\n",
    "                return row\n",
    "        return None   \n",
    "    \n",
    "    def get_message_from_id_fast(self, message_id):  \n",
    "        if message_id in self.id_to_row:           \n",
    "            return self.id_to_row[message_id]\n",
    "        return None\n",
    "\n",
    "    def get_range_of_feelings(self, bottom, upper):\n",
    "      self.comment_in_feelings_in_range = []\n",
    "      # Limitado as 20 primeiras linhas, para não travar o Colab\n",
    "      for row in self.rows[:20]:\n",
    "        feeling = float(row[8])\n",
    "        if feeling >= bottom and feeling <= upper:\n",
    "          self.comment_in_feelings_in_range.append(row[7])\n",
    "      return self.comment_in_feelings_in_range\n",
    "\n",
    "    def get_two_messages_for_the_sum_of_the_score(self, value):\n",
    "      for i in range(len(self.rows) - 1):\n",
    "        for j in range(i + 1, len(self.rows)):\n",
    "          if (self.rows[i][9] + self.rows[j][9]) == value:\n",
    "            return [self.rows[i][9], self.rows[i][7]], [self.rows[j][9], self.rows[j][7]]\n",
    "      return -1"
   ]
  },
  {
   "cell_type": "markdown",
   "metadata": {},
   "source": [
    "## **Aquisição dos dados**"
   ]
  },
  {
   "cell_type": "code",
   "execution_count": null,
   "metadata": {},
   "outputs": [],
   "source": [
    "informations = Inventory(\"dataset.csv\")"
   ]
  },
  {
   "cell_type": "markdown",
   "metadata": {},
   "source": [
    "## **Primeira função:**\n",
    ">Busca por Id\n",
    "\n",
    "\n"
   ]
  },
  {
   "cell_type": "code",
   "execution_count": null,
   "metadata": {},
   "outputs": [],
   "source": [
    "print(informations.get_message_from_id('imlddn9'))"
   ]
  },
  {
   "cell_type": "markdown",
   "metadata": {},
   "source": [
    "# **Segunda função:**\n",
    "> Busca com base na faixa de sentimento\n",
    "\n",
    "> (Busca limitada aos 20 primeiros arrays, para não travar o Colab)\n",
    "\n",
    "\n",
    "\n"
   ]
  },
  {
   "cell_type": "code",
   "execution_count": null,
   "metadata": {},
   "outputs": [],
   "source": [
    "for comments in informations.get_range_of_feelings(0,0.1):\n",
    "  print(f'-----------\\nComentário:\\n-----------\\n{comments}\\n\\n')"
   ]
  },
  {
   "cell_type": "markdown",
   "metadata": {},
   "source": [
    "## **Terceira função:**\n",
    "> Busca de dois comentários com base na soma de seus scores\n",
    "\n"
   ]
  },
  {
   "cell_type": "code",
   "execution_count": null,
   "metadata": {},
   "outputs": [],
   "source": [
    "for result in informations.get_two_messages_for_the_sum_of_the_score(2):\n",
    "  if result != -1:\n",
    "    print(f'Score: {result[0]} - \"Comentário: {result[1]}\"')\n",
    "  else:\n",
    "    print(result)"
   ]
  },
  {
   "cell_type": "markdown",
   "metadata": {},
   "source": [
    "# **Testes**"
   ]
  },
  {
   "cell_type": "code",
   "execution_count": null,
   "metadata": {},
   "outputs": [],
   "source": [
    "!pip install pytest pytest-sugar"
   ]
  },
  {
   "cell_type": "code",
   "execution_count": null,
   "metadata": {},
   "outputs": [],
   "source": [
    "%%file test_data.py\n",
    "import pytest\n",
    "\n",
    "import csv\n",
    "\n",
    "class Inventory():                    \n",
    "    \n",
    "    def __init__(self, csv_filename):\n",
    "        with open(csv_filename, encoding=\"utf8\") as f: \n",
    "            reader = csv.reader(f)\n",
    "            rows = list(reader)\n",
    "        self.header = rows[0]        \n",
    "        self.rows = rows[1:]\n",
    "        for row in self.rows:              \n",
    "            row[-1] = int(row[-1])\n",
    "        self.id_to_row = {}                        \n",
    "        for row in self.rows:                       \n",
    "            self.id_to_row[row[1]] = row\n",
    "    \n",
    "    def get_message_from_id(self, message_id):\n",
    "        for row in self.rows:                 \n",
    "            if row[1] == message_id:\n",
    "                return row\n",
    "        return None   \n",
    "    \n",
    "    def get_message_from_id_fast(self, message_id):  \n",
    "        if message_id in self.id_to_row:           \n",
    "            return self.id_to_row[message_id]\n",
    "        return None\n",
    "\n",
    "    def get_range_of_feelings(self, bottom, upper):\n",
    "      self.comment_in_feelings_in_range = []\n",
    "      # Limitado as 20 primeiras linhas, para não travar o Colab\n",
    "      for row in self.rows[:20]:\n",
    "        feeling = float(row[8])\n",
    "        if feeling >= bottom and feeling <= upper:\n",
    "          self.comment_in_feelings_in_range.append(row[7])\n",
    "      return self.comment_in_feelings_in_range\n",
    "\n",
    "    def get_two_messages_for_the_sum_of_the_score(self, value):\n",
    "      for i in range(len(self.rows) - 1):\n",
    "        for j in range(i + 1, len(self.rows)):\n",
    "          if (self.rows[i][9] + self.rows[j][9]) == value:\n",
    "            return [self.rows[i][9], self.rows[i][7]], [self.rows[j][9], self.rows[j][7]]\n",
    "      return -1\n",
    "\n",
    "informations = Inventory(\"dataset.csv\")\n",
    "\n",
    "@pytest.fixture(scope=\"session\")\n",
    "def data():\n",
    "    \n",
    "    array = []\n",
    "    \n",
    "    # test 1 data\n",
    "    array.append('imlddn9')\n",
    "\n",
    "    # test 2 data\n",
    "    array.append((0,0.1))\n",
    "\n",
    "    # test 2 data\n",
    "    array.append(2)\n",
    "    \n",
    "    return array\n",
    "\n",
    "def test_1(data):\n",
    "    \n",
    "    assert informations.get_message_from_id(data[0]) == ['comment', 'imlddn9', '2qh3l', 'news', 'false', '1661990368', 'https://old.reddit.com/r/news/comments/x2cszk/us_life_expectancy_down_for_secondstraight_year/imlddn9/', 'Yeah but what the above commenter is saying is their base doesn’t want any of that. They detest all of those things, even the small gradual changes. Investing in nuclear energy is a tacit acknowledgement of man made climate change. Any acknowledgement or concession and they will be primaried out in a minute', '0.5719', 2]\n",
    "\n",
    "def test_2(data):\n",
    "    \n",
    "    assert informations.get_range_of_feelings(data[1][0],data[1][1]) == [\"Not just Sacramento. It's actually happening all over the world. Climate change is real, believe it or not.\", \"&gt;Not climate change mind you\\n\\nHi. I have a degree in Climate Science. While California has been wetter in the past 150 years compared to the state's recent paleoclimatological history, the current aridification of the American west is driven by human-caused climate change and excessive water usage.\"]\n",
    "\n",
    "def test_3(data):\n",
    "    \n",
    "    assert informations.get_two_messages_for_the_sum_of_the_score(data[2]) == ([2, 'Yeah but what the above commenter is saying is their base doesn’t want any of that. They detest all of those things, even the small gradual changes. Investing in nuclear energy is a tacit acknowledgement of man made climate change. Any acknowledgement or concession and they will be primaried out in a minute'], [0, 'Correct, \"climate change\" is not the same thing as the air quality index in Shanghai.  No, I don\\'t think you get it.'])"
   ]
  },
  {
   "cell_type": "code",
   "execution_count": null,
   "metadata": {},
   "outputs": [],
   "source": [
    "!pytest . -vv"
   ]
  }
 ],
 "metadata": {
  "kernelspec": {
   "display_name": "Python 3 (ipykernel)",
   "language": "python",
   "name": "python3"
  },
  "language_info": {
   "codemirror_mode": {
    "name": "ipython",
    "version": 3
   },
   "file_extension": ".py",
   "mimetype": "text/x-python",
   "name": "python",
   "nbconvert_exporter": "python",
   "pygments_lexer": "ipython3",
   "version": "3.8.13"
  }
 },
 "nbformat": 4,
 "nbformat_minor": 2
}
