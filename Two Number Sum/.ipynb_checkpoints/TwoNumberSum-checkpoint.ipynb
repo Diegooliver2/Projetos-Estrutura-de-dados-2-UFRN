{
 "cells": [
  {
   "cell_type": "code",
   "execution_count": null,
   "metadata": {
    "id": "T7w9gyDhs27m"
   },
   "outputs": [],
   "source": [
    "!pip install pytest pytest-sugar"
   ]
  },
  {
   "cell_type": "code",
   "execution_count": null,
   "metadata": {
    "id": "c217oD8WtBA9"
   },
   "outputs": [],
   "source": [
    "%%file test_data.py\n",
    "import pytest\n",
    "\n",
    "def twoNumberSum(array, tarGetSum):\n",
    "    \"\"\"\n",
    "    Description:\n",
    "    A function that take in a non-empty array of distinct integers\n",
    "    and an integer representing a target sum. If any two numbers \n",
    "    in the input array sum up to the target sum, the function should\n",
    "    return then in an array, in any order. \n",
    "    If no two numbers sum up to the target sum, \n",
    "    the function should return an empty array.\n",
    "\n",
    "    Parameters:\n",
    "    array <list>: list of integers\n",
    "    tarGetSum <integer>: integer representing a target sum\n",
    "\n",
    "    Return:\n",
    "    Interger pair which sum is equal to targetSum\n",
    "    empty otherwise\n",
    "    \"\"\"\n",
    "    solution = {}\n",
    "\n",
    "    for value in array:\n",
    "        aux = tarGetSum - value\n",
    "        print(aux, solution)\n",
    "        if value in solution:\n",
    "            return [aux, value]\n",
    "        else:\n",
    "            solution[aux] = True\n",
    "    return []\n",
    "\n",
    "@pytest.fixture(scope=\"session\")\n",
    "def data():\n",
    "    \n",
    "    array = []\n",
    "    \n",
    "    # test 1 data\n",
    "    array.append([3, 5, -4, 8, 11, 1, -1, 6])\n",
    "\n",
    "    # test 2 data\n",
    "    array.append([4, 6, 1, -3])\n",
    "\n",
    "    # test 3 data\n",
    "    array.append([1, 2, 3, 4, 5, 6, 7, 8, 9, 15])\n",
    "\n",
    "    # test 4 data\n",
    "    array.append([15])\n",
    "\n",
    "    # test 5 data\n",
    "    array.append([-21, 301, 12, 4, 65, 56, 210, 356, 9, -47])\n",
    "\n",
    "    # test 6 data\n",
    "    array.append([-21, 301, 12, 4, 65, 56, 210, 356, 9, -47])\n",
    "\n",
    "    # test 7 data\n",
    "    array.append([-7, -5, -3, -1, 0, 1, 3, 5, 7])\n",
    "    \n",
    "    return array\n",
    "\n",
    "def test_1(data):\n",
    "    \"\"\"\n",
    "    Test evaluation for [3, 5, -4, 8, 11, 1, -1, 6] and target 10\n",
    "    \"\"\"\n",
    "    assert twoNumberSum(data[0],10) == [11,-1]\n",
    "\n",
    "\n",
    "def test_2(data):\n",
    "    \"\"\"\n",
    "    Test evaluation for [4, 6, 1, -3] and target 3\n",
    "    \"\"\"\n",
    "    assert twoNumberSum(data[1],3) == [6,-3]\n",
    "\n",
    "def test_3(data):\n",
    "    \"\"\"\n",
    "    Test evaluation for [1, 2, 3, 4, 5, 6, 7, 8, 9, 15] and target 26\n",
    "    \"\"\"\n",
    "    assert twoNumberSum(data[2],26) == []\n",
    "\n",
    "def test_4(data):\n",
    "    \"\"\"\n",
    "    Test evaluation for [15] and target 15\n",
    "    \"\"\"\n",
    "    assert twoNumberSum(data[3],15) == []\n",
    "\n",
    "def test_5(data):\n",
    "    \"\"\"\n",
    "    Test evaluation for [-21, 301, 12, 4, 65, 56, 210, 356, 9, -47] and target 164\n",
    "    \"\"\"\n",
    "    assert twoNumberSum(data[4],164) == [] \n",
    "\n",
    "def test_6(data):\n",
    "    \"\"\"\n",
    "    Test evaluation for [-21, 301, 12, 4, 65, 56, 210, 356, 9, -47] and target 163\n",
    "    \"\"\"\n",
    "    assert twoNumberSum(data[5],163) == [210, -47] \n",
    "\n",
    "def test_7(data):\n",
    "    \"\"\"\n",
    "    Test evaluation for [-7, -5, -3, -1, 0, 1, 3, 5, 7] and target -5\n",
    "    \"\"\"\n",
    "    assert twoNumberSum(data[6],-5) == [-5, 0]"
   ]
  },
  {
   "cell_type": "code",
   "execution_count": null,
   "metadata": {
    "id": "bFuLjMLQshTR"
   },
   "outputs": [],
   "source": [
    "!pytest . -vv"
   ]
  }
 ],
 "metadata": {
  "colab": {
   "provenance": []
  },
  "kernelspec": {
   "display_name": "Python 3 (ipykernel)",
   "language": "python",
   "name": "python3"
  },
  "language_info": {
   "codemirror_mode": {
    "name": "ipython",
    "version": 3
   },
   "file_extension": ".py",
   "mimetype": "text/x-python",
   "name": "python",
   "nbconvert_exporter": "python",
   "pygments_lexer": "ipython3",
   "version": "3.8.13"
  }
 },
 "nbformat": 4,
 "nbformat_minor": 1
}
